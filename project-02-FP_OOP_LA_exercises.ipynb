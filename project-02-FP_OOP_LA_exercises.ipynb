{
 "cells": [
  {
   "cell_type": "markdown",
   "metadata": {},
   "source": [
    "## Functional & Object Oriented Programming "
   ]
  },
  {
   "cell_type": "markdown",
   "metadata": {},
   "source": [
    "### Functional Programming in Python\n",
    "In class, we briefly explored the Functional Programming in Python through lambda functions, map, filter, iterators, generators, and deocrators. This note will review those ideas. "
   ]
  },
  {
   "cell_type": "markdown",
   "metadata": {},
   "source": [
    "#### Lambda Functions \n"
   ]
  },
  {
   "cell_type": "markdown",
   "metadata": {
    "collapsed": false
   },
   "source": [
    "Exercise : For this exercise solve the following problem on Hackerrank and post your solution in the cell below\n",
    "\n",
    "[Validating Email addresses with a Filter](https://www.hackerrank.com/contests/pythonista-practice-session/challenges/validate-list-of-email-address-with-filter)\n"
   ]
  },
  {
   "cell_type": "code",
   "execution_count": 47,
   "metadata": {
    "collapsed": false
   },
   "outputs": [
    {
     "name": "stdout",
     "output_type": "stream",
     "text": [
      "Error\n"
     ]
    },
    {
     "data": {
      "text/plain": [
       "[]"
      ]
     },
     "execution_count": 47,
     "metadata": {},
     "output_type": "execute_result"
    }
   ],
   "source": [
    "def split_email(s, sep):\n",
    "    stack = [s]\n",
    "    for char in sep:\n",
    "        pieces = []\n",
    "        for substr in stack:\n",
    "            pieces.extend(substr.split(char))\n",
    "        stack = pieces\n",
    "    return stack\n",
    "\n",
    "#print(split_email('username@website.extension', (\"@\", \".\")))\n",
    "\n",
    "import re\n",
    "CHECK_USER_RE = re.compile('[^a-zA-Z0-9_-]')\n",
    "def check_user_re(mystring):\n",
    "    return not CHECK_USER_RE.search(mystring)\n",
    "#print(check_user_re('adrija_19-4'))\n",
    "\n",
    "import re\n",
    "CHECK_WEB_RE = re.compile('[^a-zA-Z0-9]')\n",
    "def check_web_re(mystring):\n",
    "    return not CHECK_WEB_RE.search(mystring)\n",
    "#print(check_web_re('adrija_19-4'))\n",
    "\n",
    "import re\n",
    "CHECK_EXT = 3\n",
    "def check_ext(mystring):\n",
    "    if (len(mystring)) <= 3:\n",
    "        return mystring\n",
    "    else:\n",
    "        return False\n",
    "    \n",
    "#print(check_ext('adro'))\n",
    "\n",
    "def Screen_Input(intg, l_email):\n",
    "    if len(l_email) == intg:\n",
    "        p = filter(lambda x: validate_email(x), l_email)\n",
    "        return p\n",
    "    else:\n",
    "        print 'Error'\n",
    "        return []\n",
    "\n",
    "\n",
    "def validate_email(myemail):\n",
    "    split_email(myemail, (\"@\", \".\"))\n",
    "    Break_email = split_email(myemail, (\"@\", \".\"))\n",
    "    ret = False\n",
    "    if len(Break_email) == 3:\n",
    "        username = Break_email[0]\n",
    "        website = Break_email[1]\n",
    "        extension = Break_email[2]\n",
    "        return (check_user_re(username) and check_web_re(website) and check_ext(extension))\n",
    "    else:\n",
    "        return False \n",
    "                \n",
    "list_of_emails = ['brian-23@hackerrank.com', 'britts_54@hackerrank.com', 'la@ra@hackerrank.com']            \n",
    "                \n",
    "#p = filter(lambda x: validate_email(x), list_of_emails)\n",
    "#print(p)                \n",
    "#lambda(tsplit,  )\n",
    "#def Validate_Username(username):\n",
    "Screen_Input(3,list_of_emails )    "
   ]
  },
  {
   "cell_type": "markdown",
   "metadata": {},
   "source": [
    "#### Generators\n",
    "\n",
    "Exercise :\n",
    "Write a infinite generator that successively yields the triangle numbers 0, 1, 3, 6, 10, ...\n",
    "\n",
    "[Triangle Numbers](https://en.wikipedia.org/wiki/Triangular_number)"
   ]
  },
  {
   "cell_type": "code",
   "execution_count": 2,
   "metadata": {
    "collapsed": false
   },
   "outputs": [
    {
     "name": "stdout",
     "output_type": "stream",
     "text": [
      "0\n",
      "1\n",
      "3\n",
      "6\n",
      "10\n",
      "15\n"
     ]
    }
   ],
   "source": [
    "### Generators\n",
    "\"\"\"\n",
    "Exercise :\n",
    "Write a infinite generator that successively yields the triangle numbers 0, 1, 3, 6, 10, ...\n",
    "\n",
    "Triangle Numbers : https://en.wikipedia.org/wiki/Triangular_number\n",
    "\"\"\"\n",
    "def generate_triangles(n):\n",
    "    y = 0\n",
    "    x = n*(n+1)/2\n",
    "    while n >= 0:\n",
    "        y = x\n",
    "        yield y\n",
    " \n",
    "#My implementation is below - for n = 0, 1, 2, 3, 4, 5\n",
    "print(next(generate_triangles(0))) \n",
    "print(next(generate_triangles(1))) \n",
    "print(next(generate_triangles(2))) \n",
    "print(next(generate_triangles(3))) \n",
    "print(next(generate_triangles(4)))\n",
    "print(next(generate_triangles(5))) \n",
    "    \n",
    "    \n"
   ]
  },
  {
   "cell_type": "code",
   "execution_count": 3,
   "metadata": {
    "collapsed": false
   },
   "outputs": [
    {
     "name": "stdout",
     "output_type": "stream",
     "text": [
      "3\n",
      "1\n",
      "0\n"
     ]
    }
   ],
   "source": [
    "\"\"\"\n",
    "Use your generator to write a function triangles_under(n) that prints out all triangle\n",
    "numbers strictly less than the parameter n.\n",
    "\n",
    "\"\"\"\n",
    "def triangles_under(n):\n",
    "    y = 0 #y is zero\n",
    "    for y in range(0,n): # y is zero\n",
    "        n = n-1 # n is 3-1 = 2\n",
    "        x = n*(n+1)/2 # x = 3\n",
    "        y = x # y = 3\n",
    "        yield y #returns y and pauses execution\n",
    "\n",
    "t = triangles_under(3)\n",
    "#print(next(triangles_under(0)))\n",
    "#My implementation is below- \n",
    "print(next(t))\n",
    "print(next(t))\n",
    "print(next(t))\n",
    "\n",
    " \n",
    "    \n",
    "    "
   ]
  },
  {
   "cell_type": "markdown",
   "metadata": {},
   "source": [
    "#### Decorators \n",
    "Exercise : Standardize Mobile Numbers using Decorators\n",
    "\n",
    "Make a list of the mobile numbers and pass it to a function that sorts the array \n",
    "in ascending order. Make a decorator that standardizes the mobile numbers and \n",
    "apply it to the function.\n",
    "\n",
    "Input : Take a list of mobile numbers. Sort them in ascending order then print them in \n",
    "the standard format shown below:\n",
    "    \n",
    "    +1 xxx xxx xxxx\n",
    "\n",
    "The given mobile numbers may have +1, 1 or 0 written before the actual digit number. \n",
    "Alternatively, there may not be any prefix at all. \n",
    "\n",
    "Sample Input : \n",
    "    06502505121\n",
    "    +19658764040\n",
    "\n",
    "Sample output :\n",
    "    +1 650 250 5121\n",
    "    +1 965 876 4040\n"
   ]
  },
  {
   "cell_type": "code",
   "execution_count": 4,
   "metadata": {
    "collapsed": true
   },
   "outputs": [],
   "source": [
    "#Write code here\n",
    "# def wrapper(f):\n",
    "#     def fun(l):\n",
    "#         # complete the function\n",
    "#     return fun"
   ]
  },
  {
   "cell_type": "code",
   "execution_count": 28,
   "metadata": {
    "collapsed": false
   },
   "outputs": [
    {
     "name": "stdout",
     "output_type": "stream",
     "text": [
      "<function wrapper at 0x10746c488>\n"
     ]
    }
   ],
   "source": [
    "Mobile_Number= ''\n",
    "def wrapper(Mobile_Number):\n",
    "    #Mobile_Number= ''\n",
    "    n = int(Mobile_Number)\n",
    "#     first_three_digit = int(repr(n)[-10:-7])\n",
    "#     next_three_digit = int(repr(n)[-7:-4])\n",
    "#     last_four_digit = int(repr(n)[-4:])\n",
    "    #n = filter(lambda n: int(repr(n)[-10:]), Mobile_Number)\n",
    "    def fun(n):\n",
    "        #n = int(repr(Mobile_Number)[-10:])\n",
    "        first_three_digit = int(repr(n)[-10:-7])\n",
    "        next_three_digit = int(repr(n)[-7:-4])\n",
    "        last_four_digit = int(repr(n)[-4:])\n",
    "        print \"+1\" + ' ' + str(first_three_digit) + ' ' + str(next_three_digit) + ' ' + str(last_four_digit)\n",
    "        return fun\n",
    "    return wrapper\n",
    "    \n",
    "#print \"+1\" + ' ' + str(first_three_digit) + ' ' + str(next_three_digit) + ' ' + str(last_four_digit)\n",
    "\n",
    "print(wrapper(06502505121))"
   ]
  },
  {
   "cell_type": "code",
   "execution_count": 29,
   "metadata": {
    "collapsed": false
   },
   "outputs": [
    {
     "name": "stdout",
     "output_type": "stream",
     "text": [
      "1963625041\n"
     ]
    }
   ],
   "source": [
    "n = 016502505121\n",
    "x = int(repr(n)[-10:])\n",
    "print(x)\n",
    "#n = filter(lambda n: int(repr(n)[-10:]), Mobile_Number)"
   ]
  },
  {
   "cell_type": "code",
   "execution_count": 32,
   "metadata": {
    "collapsed": false
   },
   "outputs": [
    {
     "name": "stdout",
     "output_type": "stream",
     "text": [
      "6502505121\n",
      "650\n",
      "250\n",
      "5121\n"
     ]
    }
   ],
   "source": [
    "#m = '09658764040'\n",
    "m = '016502505121'\n",
    "n = int(m)\n",
    "last_ten_digit = int(repr(n)[-10:])\n",
    "first_three_digit = int(repr(n)[-10:-7])\n",
    "next_three_digit = int(repr(n)[-7:-4])\n",
    "last_four_digit = int(repr(n)[-4:])\n",
    "print(last_ten_digit)\n",
    "print(first_three_digit)\n",
    "print(next_three_digit)\n",
    "print(last_four_digit)"
   ]
  },
  {
   "cell_type": "code",
   "execution_count": 33,
   "metadata": {
    "collapsed": false
   },
   "outputs": [
    {
     "name": "stdout",
     "output_type": "stream",
     "text": [
      "+1 650 250 5121\n"
     ]
    }
   ],
   "source": [
    "print \"+1\" + ' ' + str(first_three_digit) + ' ' + str(next_three_digit) + ' ' + str(last_four_digit)\n"
   ]
  },
  {
   "cell_type": "markdown",
   "metadata": {},
   "source": [
    "### Object Oriented Programming in Python"
   ]
  },
  {
   "cell_type": "markdown",
   "metadata": {},
   "source": [
    "#### Exercise 1: "
   ]
  },
  {
   "cell_type": "code",
   "execution_count": null,
   "metadata": {
    "collapsed": false
   },
   "outputs": [],
   "source": [
    "# Before compiling the following code snippets, write down what\n",
    "# each individual call will return in an inline comment. \n",
    "# If you think it returns an error, why would it be the case. \n",
    " \n",
    "\n",
    "class Account(object):\n",
    "    interest = 0.02\n",
    "    def __init__(self, account_holder):\n",
    "        self.balance = 0\n",
    "        self.holder = account_holder\n",
    "    def deposit(self, amount):\n",
    "        self.balance = self.balance + amount\n",
    "        print(\"Yes!\")\n",
    "\n",
    "a = Account(\"Billy\") #  # a is an object of an instance of account\n",
    "____________\n",
    "\n",
    "a.account_holder # # error\n",
    "\n",
    "____________\n",
    "\n",
    "Account.holder # # Account is a blueprint. Error\n",
    "______\n",
    "# Both amount and account_holder are local variables.\n",
    "\n",
    "Account.interest #Account is a blueprint. Error\n",
    "______\n",
    "\n",
    "a.interest #\n",
    "______\n",
    "\n",
    "Account.interest = 0.03 \n",
    "a.interest  ## .02\n",
    "______\n",
    "\n",
    "a.deposit(1000) #prints \"Yes!\"\n",
    "______\n",
    "\n",
    "a.balance  ##1050\n",
    "______"
   ]
  },
  {
   "cell_type": "markdown",
   "metadata": {},
   "source": [
    "#### Exercise 2: Timed Key Value Store \n",
    "\n",
    "At a high-level, we'll be building a key-value store (think Dictionary or HashMap) that has a get method that takes an optional second parameter as a time object in Python to return the most recent value before that period in time. If no key-value pair was added to the map before that period in time, return None.\n",
    "\n",
    "For consistency’s sake, let’s call this class TimedKVStore and put it into a file called kv_store.py\n",
    "\n",
    "You’ll need some sort of time object to track when key-value pairs are getting added to this map. Consider using the time module from Python Docs\n",
    "\n",
    "To give you an idea of how this class works, this is what should happen after you implement TimedKVStore.\n",
    "\n"
   ]
  },
  {
   "cell_type": "code",
   "execution_count": null,
   "metadata": {
    "collapsed": true
   },
   "outputs": [],
   "source": [
    "d = TimedKVStore()\n",
    "\n",
    "t0 = time.time()\n",
    "d.put(\"1\", 1)\n",
    "\n",
    "t1 = time.time()\n",
    "d.put(\"1\", 1.1)\n",
    "\n",
    "d.get(\"1\")\n",
    "#Output : 1.1\n",
    "        \n",
    "d.get(\"1\", t1)\n",
    "#Output : 1\n",
    "    \n",
    "d.get(\"1\", t0)\n",
    "#Output : None"
   ]
  },
  {
   "cell_type": "code",
   "execution_count": 79,
   "metadata": {
    "collapsed": false
   },
   "outputs": [
    {
     "data": {
      "text/plain": [
       "2.1"
      ]
     },
     "execution_count": 79,
     "metadata": {},
     "output_type": "execute_result"
    }
   ],
   "source": [
    "import time\n",
    "\n",
    "\n",
    "#Write code here\n",
    "#Write code here\n",
    "# need key, value \n",
    "# create a dictionary of dictionary -- first element as the number key, \n",
    "#second element as the time key and the third as the value\n",
    "#example {key:{time: value}}\n",
    "\n",
    "class TimedKVStore(object):\n",
    "    #member variables- time dictionary\n",
    "    Time_dict = {}\n",
    "    \n",
    "#     def __init__(self, key, value):\n",
    "#         self.key = key\n",
    "#         self.value = value\n",
    "    \n",
    "    def put(self, key, value):\n",
    "        Dict = {}\n",
    "        t1 = time.time()\n",
    "        Dict[t1] = value\n",
    "        if key in self.Time_dict.keys():\n",
    "            self.Time_dict[key].update(Dict)\n",
    "        else:    \n",
    "            self.Time_dict[key] = Dict\n",
    "        \n",
    "    def get(self, ke, tim = 0):\n",
    "        x = self.Time_dict[ke]\n",
    "        y = 0\n",
    "        if tim == 0:\n",
    "            for t, v in  x.iteritems():\n",
    "                y = v\n",
    "            return y\n",
    "        #{'1: {t0:1, t1:1.1, t2:2.1} }\n",
    "        for t, v in  x.iteritems():                   \n",
    "            if t < tim:\n",
    "                y = v\n",
    "        return y\n",
    "    \n",
    "                    \n",
    "    def get_dict(self):\n",
    "        return self.Time_dict\n",
    "                \n",
    "                \n",
    "d = TimedKVStore()              \n",
    "t0 = time.time()\n",
    "d.put('1', 1)\n",
    "d.get_dict()\n",
    "t1 = time.time()\n",
    "d.put('1', 1.1)\n",
    "t2 =time.time()\n",
    "d.put('1', 2.1)\n",
    "d.get_dict()\n",
    "\n",
    "\n",
    "# t1 = time.time()\n",
    "# d.put(1, 1.1)\n",
    "\n",
    "d.get(\"1\")\n",
    "                \n"
   ]
  },
  {
   "cell_type": "markdown",
   "metadata": {
    "collapsed": true
   },
   "source": [
    "#### Exercise 3 : \n",
    "For this problem you will be creating a class and apply OOP priciples to it. The problem is divided into two parts.\n",
    "\n",
    "#### 1. PART 1: \n",
    "* Define a Rocket() class.\n",
    "* Define the __init__() method. Let your __init__() method accept x and y values for the initial position of the rocket. Make sure the default behavior is to position the rocket at (0,0).\n",
    "* Define the move_rocket() method. The method should accept an amount to move (x,y)\n",
    "* Create a Rocket object. Move the rocket around, printing its position after each move.\n",
    "* Create a small fleet of rockets. Move several of them around, and print their final positions to prove that each rocket can move independently of the other rockets.\n",
    "* Define the get_distance() method. The method should accept a Rocket object, and calculate the distance between the current rocket and the rocket that is passed into the method.\n",
    "* Use the get_distance() method to print the distances between several of the rockets in your fleet.\n",
    "\n",
    "#### 2. PART 2 : Applying Inheritance\n",
    "* Define a class SpaceShuttle() which extends class Rocket()\n",
    "* Add more attributes that are particular to space shuttles such as maximum number of flights, capability of supporting spacewalks, and capability of docking with the ISS.\n",
    "* Add a method to the class, that relates to shuttle behavior. This method could simply print a statement, such as \"Docking with the ISS,\" for a dock_ISS() method.\n",
    "* Create a Shuttle object with these attributes, and then call your new method.\n",
    "\n",
    "Hints/Notes :\n",
    "* You can use the Euclidean distance to calculate the distances between different Rocket objects\n",
    "\n",
    "    - Euclidean distance((x, y), (a, b)) = √(x - a)² + (y - b)²\n",
    "\n"
   ]
  },
  {
   "cell_type": "code",
   "execution_count": 7,
   "metadata": {
    "collapsed": false
   },
   "outputs": [
    {
     "name": "stdout",
     "output_type": "stream",
     "text": [
      "9.21954445729\n"
     ]
    },
    {
     "data": {
      "text/plain": [
       "2.8284271247461903"
      ]
     },
     "execution_count": 7,
     "metadata": {},
     "output_type": "execute_result"
    }
   ],
   "source": [
    "#Write code here \n",
    "import numpy as np\n",
    "# Define a Rocket() class.\n",
    "class Rocket(object):\n",
    "\n",
    "# Define the init() method. Let your init() method accept x and y values for the initial position of the rocket. Make sure the default behavior is to position the rocket at (0,0).\n",
    "    def __init__(self, x=0, y=0):#for no\n",
    "        self.x = x\n",
    "        self.y = y\n",
    "# Define the move_rocket() method. The method should accept an amount to move (x,y)\n",
    "    def move_rocket(self, x, y):\n",
    "        self.x = x\n",
    "        self.y = y\n",
    "    def get_position(self):\n",
    "        return (self.x, self.y)\n",
    "# Define the get_distance() method. The method should accept a Rocket object, and calculate the distance between the current rocket and the rocket that is passed into the method.\n",
    "    def get_distance(self, new_rocket):\n",
    "        x1 = self.x\n",
    "        y1 = self.y\n",
    "        (x2, y2) = new_rocket.get_position()\n",
    "        distance = np.sqrt((x1-x2)**2 + (y1-y2)**2)\n",
    "        return distance\n",
    "        \n",
    "# Create a Rocket object. Move the rocket around, printing its position after each move.\n",
    "A = Rocket(4,5)\n",
    "B = Rocket(10,12)\n",
    "print(A.get_distance(B))\n",
    "\n",
    " # Create a small fleet of rockets. Move several of them around, and print their final positions to prove that each rocket can move independently of the other rockets.\n",
    "A.move_rocket(5, 6)\n",
    "A.get_position()\n",
    "B.move_rocket(7,8)\n",
    "B.get_position()\n",
    "B.get_distance(A)\n",
    "    # Define the get_distance() method. The method should accept a Rocket object, and calculate the distance between the current rocket and the rocket that is passed into the method.\n",
    "# Use the get_distance() method to print the distances between several of the rockets in your fleet.\n"
   ]
  },
  {
   "cell_type": "code",
   "execution_count": 12,
   "metadata": {
    "collapsed": false
   },
   "outputs": [
    {
     "name": "stdout",
     "output_type": "stream",
     "text": [
      "Not capable\n"
     ]
    },
    {
     "data": {
      "text/plain": [
       "14.142135623730951"
      ]
     },
     "execution_count": 12,
     "metadata": {},
     "output_type": "execute_result"
    }
   ],
   "source": [
    "# Define a class SpaceShuttle() which extends class Rocket()\n",
    "class SpaceShuttle(Rocket):\n",
    "    \n",
    "\n",
    "# Add more attributes that are particular to space shuttles such as maximum number of flights, \n",
    "#capability of supporting spacewalks, and capability of docking with the ISS.\n",
    "    max_flights = 0\n",
    "    spacewalks = True\n",
    "    ISS_Docking = True\n",
    "# Add a method to the class, that relates to shuttle behavior. This method could simply print a statement, \n",
    "#such as \"Docking with the ISS,\" for a dock_ISS() method.\n",
    "    def set_max_flight(self, max_flights):\n",
    "        self.max_flights = max_flights\n",
    "        \n",
    "    def set_spacewalks(self, spacewalks):\n",
    "        self.spacewalks = spacewalks\n",
    "        if self.spacewalks == True:\n",
    "            print 'Walking in the space'\n",
    "        else:\n",
    "            print 'Not capable'\n",
    "        \n",
    "    def set_ISS_Docking(self, ISS_Docking):\n",
    "        self.ISS_Docking = ISS_Docking\n",
    "        if self.ISS_Docking == True:\n",
    "            print 'Docking with the ISS'\n",
    "        else:\n",
    "            print 'Not capable'\n",
    "# Create a Shuttle object with these attributes, and then call your new method.\n",
    "\n",
    "C = SpaceShuttle(9, 10)\n",
    "C.set_ISS_Docking(False)\n",
    "C.get_position()\n",
    "C.move_rocket(15, 16)\n",
    "C.get_position()\n",
    "D = SpaceShuttle(6, 10)\n",
    "C.get_distance(A)\n"
   ]
  },
  {
   "cell_type": "markdown",
   "metadata": {},
   "source": [
    "### Linear Algebra Review\n",
    "\n",
    "Exercise: Read through and review [Stanford's Linear Algebra Review](http://cs229.stanford.edu/section/cs229-linalg.pdf) \n",
    "\n",
    "\n",
    "Exercise : Go through videos : \n",
    "[Chapter 7 ,Chapter 9 , Chapter 10 , Chapter 11](https://www.youtube.com/playlist?list=PLZHQObOWTQDPD3MizzM2xVFitgF8hE_ab) and try to derive the algorithmic complexity of each vector and matrix operation. \n"
   ]
  },
  {
   "cell_type": "code",
   "execution_count": null,
   "metadata": {
    "collapsed": true
   },
   "outputs": [],
   "source": []
  }
 ],
 "metadata": {
  "anaconda-cloud": {},
  "kernelspec": {
   "display_name": "Python [conda env:dsi]",
   "language": "python",
   "name": "conda-env-dsi-py"
  },
  "language_info": {
   "codemirror_mode": {
    "name": "ipython",
    "version": 2
   },
   "file_extension": ".py",
   "mimetype": "text/x-python",
   "name": "python",
   "nbconvert_exporter": "python",
   "pygments_lexer": "ipython2",
   "version": "2.7.13"
  }
 },
 "nbformat": 4,
 "nbformat_minor": 1
}
